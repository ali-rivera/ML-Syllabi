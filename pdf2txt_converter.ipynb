{
 "cells": [
  {
   "cell_type": "markdown",
   "metadata": {},
   "source": [
    "## PDF to TXT converter!\n",
    "\n",
    "Reads in .pdf files from pdf_files and converts them to .txt files in a directory called txt_files"
   ]
  },
  {
   "cell_type": "code",
   "execution_count": 1,
   "metadata": {},
   "outputs": [],
   "source": [
    "# import packages\n",
    "import fitz\n",
    "import os"
   ]
  },
  {
   "cell_type": "code",
   "execution_count": 3,
   "metadata": {},
   "outputs": [
    {
     "data": {
      "text/plain": [
       "'c:\\\\Users\\\\wat6sv\\\\OneDrive - University of Virginia\\\\SDS_DataScientist\\\\ML-Syllabi'"
      ]
     },
     "execution_count": 3,
     "metadata": {},
     "output_type": "execute_result"
    }
   ],
   "source": [
    "pwd"
   ]
  },
  {
   "cell_type": "code",
   "execution_count": 5,
   "metadata": {},
   "outputs": [
    {
     "name": "stdout",
     "output_type": "stream",
     "text": [
      "['ASU_23F.pdf', 'BU_21F.pdf', 'CarnegieMellon_24Su.pdf', 'Cornell_24Sp.pdf', 'DU_18Sp.pdf', 'GTech_21Sp.pdf', 'GTech_Sp24.pdf', 'GWU_22Sp.pdf', 'Harvard_24Sp.pdf', 'NJIT24Sp.pdf', 'NJIT_24Sp.pdf', 'NYUParis_24F.pdf', 'OSU.pdf', 'Rice_Sp23.pdf', 'RIT_22F.pdf', 'RIT_24F.pdf', 'SJSU_F24.pdf', 'Stanford_23F.pdf', 'Tufts_23F.pdf', 'UArizona_24F.pdf', 'UArk_21F.pdf', 'UFlorida_22Sp.pdf', 'UMassAmherst_2020Sp.pdf', 'UMassAmherst_22Sp.pdf', 'UMich_F24.pdf', 'UNM_23F.pdf', 'UNM_F.pdf', 'UoM_24F.pdf', 'USC_19F.pdf', 'USC_22F.pdf', 'USC_23Sp.pdf', 'UTEP_24Sp.pdf', 'UW_24Sp.pdf']\n"
     ]
    }
   ],
   "source": [
    "# get the list of all the file names in the directory\n",
    "file_list = os.listdir(path=\"./pdf_files\")\n",
    "print(file_list)"
   ]
  },
  {
   "cell_type": "code",
   "execution_count": 6,
   "metadata": {},
   "outputs": [],
   "source": [
    "def convert_to_txt(file_name, folder = None):\n",
    "    #set the path\n",
    "    folder_path = \"./pdf_files/\"\n",
    "    file_name = file_name\n",
    "\n",
    "    file = folder_path+file_name\n",
    "\n",
    "    #open the pdf\n",
    "    pdf_file = fitz.open(file)\n",
    "\n",
    "    #iterate over pdf pages\n",
    "    for page_index in range(len(pdf_file)):\n",
    "        #get the page\n",
    "        page = pdf_file.load_page(page_index) #load the page \n",
    "\n",
    "        out = open(f\"./txt_files/{file_name[:-4]}.txt\", \"wb\") #create a text output\n",
    "        for page in pdf_file:\n",
    "            text = page.get_text().encode(\"utf8\") #get plain text (as in UTF-8)\n",
    "            out.write(text) #write text of page\n",
    "            out.write(bytes((12,))) #write page delimiter\n",
    "        out.close()\n"
   ]
  },
  {
   "cell_type": "code",
   "execution_count": 8,
   "metadata": {},
   "outputs": [],
   "source": [
    "for file in file_list:\n",
    "    convert_to_txt(file)"
   ]
  }
 ],
 "metadata": {
  "kernelspec": {
   "display_name": "base",
   "language": "python",
   "name": "python3"
  },
  "language_info": {
   "codemirror_mode": {
    "name": "ipython",
    "version": 3
   },
   "file_extension": ".py",
   "mimetype": "text/x-python",
   "name": "python",
   "nbconvert_exporter": "python",
   "pygments_lexer": "ipython3",
   "version": "3.11.4"
  }
 },
 "nbformat": 4,
 "nbformat_minor": 2
}
